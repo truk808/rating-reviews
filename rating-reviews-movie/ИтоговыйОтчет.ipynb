{
  "nbformat": 4,
  "nbformat_minor": 0,
  "metadata": {
    "colab": {
      "provenance": []
    },
    "kernelspec": {
      "name": "python3",
      "display_name": "Python 3"
    },
    "language_info": {
      "name": "python"
    }
  },
  "cells": [
    {
      "cell_type": "markdown",
      "source": [
        "# **Цель**\n",
        "- Определение целей проекта\n",
        "- Сбор данных\n",
        "-  создание макета сайта\n",
        "- Интеграция сайта и нейроной сети"
      ],
      "metadata": {
        "id": "jUY3pTfl-g3s"
      }
    },
    {
      "cell_type": "markdown",
      "source": [
        "# **Определение целей проекта**\n",
        "Цель проекта - разработать модель машинного обучения для анализа рецензий фильмов, чтобы определить настроение (положительное, отрицательное, нейтральное) с помощью методов обработки естественного языка.\n",
        "**Формулировка гипотез и вопросов для анализа **\n",
        "- Гипотеза 1 (Качество данных): Модель машинного обучения сможет точно определять настроение рецензий фильмов (положительное, отрицательное), если обучающий датасет будет содержать сбалансированное количество рецензий для каждого класса настроения.\n",
        "- Гипотеза 2 (Влияние длины текста): Длина рецензии может влиять на точность определения настроения, и короткие рецензии с четкими эмоциональными выражениями будут классифицироваться точнее, чем длинные и нейтральные тексты.\n"
      ],
      "metadata": {
        "id": "3W0ME0d9_MPb"
      }
    },
    {
      "cell_type": "markdown",
      "source": [
        "# **Сбор данных**\n",
        "1)Rotten Tomatoes Top Movies Ratings and Technical\n",
        "(https://www.kaggle.com/datasets/thedevastator/rotten-tomatoes-top-movies-ratings-and-technical ) - Этот набор данных охватывает успешные замечательные фильмы, которые были высоко оценены как критиками, так и зрителями. Здесь вы найдете полный набор технических данных по каждому фильму, охватывающий все, от кассовых сборов, съемочных групп и титров, дат выхода в эфир и продолжительности каждого фильма.\n",
        "\n",
        "2)Kinopoisk's movies reviews (https://www.kaggle.com/datasets/mikhailklemin/kinopoisks-movies-reviews ) - набор фраз на русском языке\n",
        "Каждая рецензия в отдельном файле, первая часть названия файла соответствует идентификатору фильма на kinopoisk.ru, вторая часть — номеру рецензии на этот фильм. Например, имя файла 306-15.txt обозначает идентификатор фильма на сайте 306, номер рецензии 15.\n",
        "\n",
        "3)Top 1000 IMDb Movies Dataset (https://www.kaggle.com/datasets/inductiveanks/\n",
        "top-1000-imdb-movies-dataset) - Эта коллекция представляет самые знаменитые и любимые фильмы, оцененные и ранжированные пользователями IMDb. Набор данных может похвастаться богатым набором атрибутов фильмов, которые помогут вам окунуться в мир фильмов с самым высоким рейтингом\n",
        "\n"
      ],
      "metadata": {
        "id": "tcbdx3zQB_tv"
      }
    },
    {
      "cell_type": "markdown",
      "source": [
        "## **Результат**\n",
        "На основе изученных датасетов, можно сделать вывод, что Kinopoisk's movies reviews является лучшим т.к. есть достаточный объем данных, фразы на русском языке, наличие меток и датасет имеет простую структуру\n"
      ],
      "metadata": {
        "id": "olRLl5k1CY1v"
      }
    },
    {
      "cell_type": "markdown",
      "source": [],
      "metadata": {
        "id": "wJq2bxH4DZJo"
      }
    },
    {
      "cell_type": "markdown",
      "source": [
        "# **Создание макета сайта**"
      ],
      "metadata": {
        "id": "fkNaL4zqDuBZ"
      }
    },
    {
      "cell_type": "markdown",
      "source": [
        "Нейронная сеть на вход должна принимать текст (рецензию о фильме) и на выходе показывать его оценку. На основе этого был разработан макет сайта, где есть поле для ввода текста рецензии и кнопка «отправить»."
      ],
      "metadata": {
        "id": "HIcxH6L3D-Ia"
      }
    },
    {
      "cell_type": "markdown",
      "source": [
        "![image.png](data:image/png;base64,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)"
      ],
      "metadata": {
        "id": "VQmVW6H4ERvN"
      }
    },
    {
      "cell_type": "markdown",
      "source": [
        "# **Интеграция сайта и нейроной сети**"
      ],
      "metadata": {
        "id": "zZH3MLLPFTHR"
      }
    },
    {
      "cell_type": "markdown",
      "source": [
        "Для интеграции сайта и ИИ подходит библиотека gradio\n",
        "\n",
        "Gradio — это популярная библиотека на Python для создания простых и удобных интерфейсов для взаимодействия с машинным обучением, искусственным интеллектом и другими приложениями. Gradio позволяет легко разрабатывать веб-приложения, которые дают возможность пользователям вводить данные, видеть результаты и взаимодействовать с моделями, не требуя глубоких знаний программирования."
      ],
      "metadata": {
        "id": "3XLCLJzIFbog"
      }
    },
    {
      "cell_type": "markdown",
      "source": [
        "### **Основные особенности Gradio:**"
      ],
      "metadata": {
        "id": "73rv0JVXFds1"
      }
    },
    {
      "cell_type": "markdown",
      "source": [
        "### **Простота использования:**\n",
        "\n",
        "Библиотека интуитивно понятна и легка в освоении. Всего за несколько строк кода можно создать полноценный веб-интерфейс.\n",
        "Не требуется знание HTML, CSS или JavaScript.\n",
        "### **Гибкость:**\n",
        "\n",
        "Поддерживает различные типы ввода, включая текст, изображения, аудио, видео, рисунки, файлы и т. д. Возможность интеграции с моделями машинного обучения на PyTorch, TensorFlow, Hugging Face и другими фреймворками.\n",
        "### **Локальное и облачное развертывание:**\n",
        "Приложения можно запускать локально для тестирования.\n",
        "Gradio также предоставляет хостинг в облаке, чтобы легко делиться приложениями через публичные URL."
      ],
      "metadata": {
        "id": "u6qO1r5XFmq_"
      }
    },
    {
      "cell_type": "code",
      "source": [
        "!pip install gradio"
      ],
      "metadata": {
        "colab": {
          "base_uri": "https://localhost:8080/"
        },
        "id": "a_r-3cA0GR19",
        "outputId": "27f4594d-6670-42b2-e354-3903fd2024d7"
      },
      "execution_count": 1,
      "outputs": [
        {
          "output_type": "stream",
          "name": "stdout",
          "text": [
            "Collecting gradio\n",
            "  Downloading gradio-5.8.0-py3-none-any.whl.metadata (16 kB)\n",
            "Collecting aiofiles<24.0,>=22.0 (from gradio)\n",
            "  Downloading aiofiles-23.2.1-py3-none-any.whl.metadata (9.7 kB)\n",
            "Requirement already satisfied: anyio<5.0,>=3.0 in /usr/local/lib/python3.10/dist-packages (from gradio) (3.7.1)\n",
            "Collecting fastapi<1.0,>=0.115.2 (from gradio)\n",
            "  Downloading fastapi-0.115.6-py3-none-any.whl.metadata (27 kB)\n",
            "Collecting ffmpy (from gradio)\n",
            "  Downloading ffmpy-0.4.0-py3-none-any.whl.metadata (2.9 kB)\n",
            "Collecting gradio-client==1.5.1 (from gradio)\n",
            "  Downloading gradio_client-1.5.1-py3-none-any.whl.metadata (7.1 kB)\n",
            "Requirement already satisfied: httpx>=0.24.1 in /usr/local/lib/python3.10/dist-packages (from gradio) (0.28.1)\n",
            "Requirement already satisfied: huggingface-hub>=0.25.1 in /usr/local/lib/python3.10/dist-packages (from gradio) (0.26.5)\n",
            "Requirement already satisfied: jinja2<4.0 in /usr/local/lib/python3.10/dist-packages (from gradio) (3.1.4)\n",
            "Collecting markupsafe~=2.0 (from gradio)\n",
            "  Downloading MarkupSafe-2.1.5-cp310-cp310-manylinux_2_17_x86_64.manylinux2014_x86_64.whl.metadata (3.0 kB)\n",
            "Requirement already satisfied: numpy<3.0,>=1.0 in /usr/local/lib/python3.10/dist-packages (from gradio) (1.26.4)\n",
            "Requirement already satisfied: orjson~=3.0 in /usr/local/lib/python3.10/dist-packages (from gradio) (3.10.12)\n",
            "Requirement already satisfied: packaging in /usr/local/lib/python3.10/dist-packages (from gradio) (24.2)\n",
            "Requirement already satisfied: pandas<3.0,>=1.0 in /usr/local/lib/python3.10/dist-packages (from gradio) (2.2.2)\n",
            "Requirement already satisfied: pillow<12.0,>=8.0 in /usr/local/lib/python3.10/dist-packages (from gradio) (11.0.0)\n",
            "Requirement already satisfied: pydantic>=2.0 in /usr/local/lib/python3.10/dist-packages (from gradio) (2.10.3)\n",
            "Collecting pydub (from gradio)\n",
            "  Downloading pydub-0.25.1-py2.py3-none-any.whl.metadata (1.4 kB)\n",
            "Collecting python-multipart>=0.0.18 (from gradio)\n",
            "  Downloading python_multipart-0.0.19-py3-none-any.whl.metadata (1.8 kB)\n",
            "Requirement already satisfied: pyyaml<7.0,>=5.0 in /usr/local/lib/python3.10/dist-packages (from gradio) (6.0.2)\n",
            "Collecting ruff>=0.2.2 (from gradio)\n",
            "  Downloading ruff-0.8.3-py3-none-manylinux_2_17_x86_64.manylinux2014_x86_64.whl.metadata (25 kB)\n",
            "Collecting safehttpx<0.2.0,>=0.1.6 (from gradio)\n",
            "  Downloading safehttpx-0.1.6-py3-none-any.whl.metadata (4.2 kB)\n",
            "Collecting semantic-version~=2.0 (from gradio)\n",
            "  Downloading semantic_version-2.10.0-py2.py3-none-any.whl.metadata (9.7 kB)\n",
            "Collecting starlette<1.0,>=0.40.0 (from gradio)\n",
            "  Downloading starlette-0.41.3-py3-none-any.whl.metadata (6.0 kB)\n",
            "Collecting tomlkit<0.14.0,>=0.12.0 (from gradio)\n",
            "  Downloading tomlkit-0.13.2-py3-none-any.whl.metadata (2.7 kB)\n",
            "Requirement already satisfied: typer<1.0,>=0.12 in /usr/local/lib/python3.10/dist-packages (from gradio) (0.15.1)\n",
            "Requirement already satisfied: typing-extensions~=4.0 in /usr/local/lib/python3.10/dist-packages (from gradio) (4.12.2)\n",
            "Collecting uvicorn>=0.14.0 (from gradio)\n",
            "  Downloading uvicorn-0.32.1-py3-none-any.whl.metadata (6.6 kB)\n",
            "Requirement already satisfied: fsspec in /usr/local/lib/python3.10/dist-packages (from gradio-client==1.5.1->gradio) (2024.10.0)\n",
            "Collecting websockets<15.0,>=10.0 (from gradio-client==1.5.1->gradio)\n",
            "  Downloading websockets-14.1-cp310-cp310-manylinux_2_5_x86_64.manylinux1_x86_64.manylinux_2_17_x86_64.manylinux2014_x86_64.whl.metadata (6.7 kB)\n",
            "Requirement already satisfied: idna>=2.8 in /usr/local/lib/python3.10/dist-packages (from anyio<5.0,>=3.0->gradio) (3.10)\n",
            "Requirement already satisfied: sniffio>=1.1 in /usr/local/lib/python3.10/dist-packages (from anyio<5.0,>=3.0->gradio) (1.3.1)\n",
            "Requirement already satisfied: exceptiongroup in /usr/local/lib/python3.10/dist-packages (from anyio<5.0,>=3.0->gradio) (1.2.2)\n",
            "Requirement already satisfied: certifi in /usr/local/lib/python3.10/dist-packages (from httpx>=0.24.1->gradio) (2024.8.30)\n",
            "Requirement already satisfied: httpcore==1.* in /usr/local/lib/python3.10/dist-packages (from httpx>=0.24.1->gradio) (1.0.7)\n",
            "Requirement already satisfied: h11<0.15,>=0.13 in /usr/local/lib/python3.10/dist-packages (from httpcore==1.*->httpx>=0.24.1->gradio) (0.14.0)\n",
            "Requirement already satisfied: filelock in /usr/local/lib/python3.10/dist-packages (from huggingface-hub>=0.25.1->gradio) (3.16.1)\n",
            "Requirement already satisfied: requests in /usr/local/lib/python3.10/dist-packages (from huggingface-hub>=0.25.1->gradio) (2.32.3)\n",
            "Requirement already satisfied: tqdm>=4.42.1 in /usr/local/lib/python3.10/dist-packages (from huggingface-hub>=0.25.1->gradio) (4.66.6)\n",
            "Requirement already satisfied: python-dateutil>=2.8.2 in /usr/local/lib/python3.10/dist-packages (from pandas<3.0,>=1.0->gradio) (2.8.2)\n",
            "Requirement already satisfied: pytz>=2020.1 in /usr/local/lib/python3.10/dist-packages (from pandas<3.0,>=1.0->gradio) (2024.2)\n",
            "Requirement already satisfied: tzdata>=2022.7 in /usr/local/lib/python3.10/dist-packages (from pandas<3.0,>=1.0->gradio) (2024.2)\n",
            "Requirement already satisfied: annotated-types>=0.6.0 in /usr/local/lib/python3.10/dist-packages (from pydantic>=2.0->gradio) (0.7.0)\n",
            "Requirement already satisfied: pydantic-core==2.27.1 in /usr/local/lib/python3.10/dist-packages (from pydantic>=2.0->gradio) (2.27.1)\n",
            "Requirement already satisfied: click>=8.0.0 in /usr/local/lib/python3.10/dist-packages (from typer<1.0,>=0.12->gradio) (8.1.7)\n",
            "Requirement already satisfied: shellingham>=1.3.0 in /usr/local/lib/python3.10/dist-packages (from typer<1.0,>=0.12->gradio) (1.5.4)\n",
            "Requirement already satisfied: rich>=10.11.0 in /usr/local/lib/python3.10/dist-packages (from typer<1.0,>=0.12->gradio) (13.9.4)\n",
            "Requirement already satisfied: six>=1.5 in /usr/local/lib/python3.10/dist-packages (from python-dateutil>=2.8.2->pandas<3.0,>=1.0->gradio) (1.17.0)\n",
            "Requirement already satisfied: markdown-it-py>=2.2.0 in /usr/local/lib/python3.10/dist-packages (from rich>=10.11.0->typer<1.0,>=0.12->gradio) (3.0.0)\n",
            "Requirement already satisfied: pygments<3.0.0,>=2.13.0 in /usr/local/lib/python3.10/dist-packages (from rich>=10.11.0->typer<1.0,>=0.12->gradio) (2.18.0)\n",
            "Requirement already satisfied: charset-normalizer<4,>=2 in /usr/local/lib/python3.10/dist-packages (from requests->huggingface-hub>=0.25.1->gradio) (3.4.0)\n",
            "Requirement already satisfied: urllib3<3,>=1.21.1 in /usr/local/lib/python3.10/dist-packages (from requests->huggingface-hub>=0.25.1->gradio) (2.2.3)\n",
            "Requirement already satisfied: mdurl~=0.1 in /usr/local/lib/python3.10/dist-packages (from markdown-it-py>=2.2.0->rich>=10.11.0->typer<1.0,>=0.12->gradio) (0.1.2)\n",
            "Downloading gradio-5.8.0-py3-none-any.whl (57.2 MB)\n",
            "\u001b[2K   \u001b[90m━━━━━━━━━━━━━━━━━━━━━━━━━━━━━━━━━━━━━━━━\u001b[0m \u001b[32m57.2/57.2 MB\u001b[0m \u001b[31m16.6 MB/s\u001b[0m eta \u001b[36m0:00:00\u001b[0m\n",
            "\u001b[?25hDownloading gradio_client-1.5.1-py3-none-any.whl (320 kB)\n",
            "\u001b[2K   \u001b[90m━━━━━━━━━━━━━━━━━━━━━━━━━━━━━━━━━━━━━━━━\u001b[0m \u001b[32m320.2/320.2 kB\u001b[0m \u001b[31m18.8 MB/s\u001b[0m eta \u001b[36m0:00:00\u001b[0m\n",
            "\u001b[?25hDownloading aiofiles-23.2.1-py3-none-any.whl (15 kB)\n",
            "Downloading fastapi-0.115.6-py3-none-any.whl (94 kB)\n",
            "\u001b[2K   \u001b[90m━━━━━━━━━━━━━━━━━━━━━━━━━━━━━━━━━━━━━━━━\u001b[0m \u001b[32m94.8/94.8 kB\u001b[0m \u001b[31m7.6 MB/s\u001b[0m eta \u001b[36m0:00:00\u001b[0m\n",
            "\u001b[?25hDownloading MarkupSafe-2.1.5-cp310-cp310-manylinux_2_17_x86_64.manylinux2014_x86_64.whl (25 kB)\n",
            "Downloading python_multipart-0.0.19-py3-none-any.whl (24 kB)\n",
            "Downloading ruff-0.8.3-py3-none-manylinux_2_17_x86_64.manylinux2014_x86_64.whl (11.2 MB)\n",
            "\u001b[2K   \u001b[90m━━━━━━━━━━━━━━━━━━━━━━━━━━━━━━━━━━━━━━━━\u001b[0m \u001b[32m11.2/11.2 MB\u001b[0m \u001b[31m97.3 MB/s\u001b[0m eta \u001b[36m0:00:00\u001b[0m\n",
            "\u001b[?25hDownloading safehttpx-0.1.6-py3-none-any.whl (8.7 kB)\n",
            "Downloading semantic_version-2.10.0-py2.py3-none-any.whl (15 kB)\n",
            "Downloading starlette-0.41.3-py3-none-any.whl (73 kB)\n",
            "\u001b[2K   \u001b[90m━━━━━━━━━━━━━━━━━━━━━━━━━━━━━━━━━━━━━━━━\u001b[0m \u001b[32m73.2/73.2 kB\u001b[0m \u001b[31m6.1 MB/s\u001b[0m eta \u001b[36m0:00:00\u001b[0m\n",
            "\u001b[?25hDownloading tomlkit-0.13.2-py3-none-any.whl (37 kB)\n",
            "Downloading uvicorn-0.32.1-py3-none-any.whl (63 kB)\n",
            "\u001b[2K   \u001b[90m━━━━━━━━━━━━━━━━━━━━━━━━━━━━━━━━━━━━━━━━\u001b[0m \u001b[32m63.8/63.8 kB\u001b[0m \u001b[31m4.9 MB/s\u001b[0m eta \u001b[36m0:00:00\u001b[0m\n",
            "\u001b[?25hDownloading ffmpy-0.4.0-py3-none-any.whl (5.8 kB)\n",
            "Downloading pydub-0.25.1-py2.py3-none-any.whl (32 kB)\n",
            "Downloading websockets-14.1-cp310-cp310-manylinux_2_5_x86_64.manylinux1_x86_64.manylinux_2_17_x86_64.manylinux2014_x86_64.whl (168 kB)\n",
            "\u001b[2K   \u001b[90m━━━━━━━━━━━━━━━━━━━━━━━━━━━━━━━━━━━━━━━━\u001b[0m \u001b[32m168.2/168.2 kB\u001b[0m \u001b[31m12.6 MB/s\u001b[0m eta \u001b[36m0:00:00\u001b[0m\n",
            "\u001b[?25hInstalling collected packages: pydub, websockets, uvicorn, tomlkit, semantic-version, ruff, python-multipart, markupsafe, ffmpy, aiofiles, starlette, safehttpx, gradio-client, fastapi, gradio\n",
            "  Attempting uninstall: markupsafe\n",
            "    Found existing installation: MarkupSafe 3.0.2\n",
            "    Uninstalling MarkupSafe-3.0.2:\n",
            "      Successfully uninstalled MarkupSafe-3.0.2\n",
            "Successfully installed aiofiles-23.2.1 fastapi-0.115.6 ffmpy-0.4.0 gradio-5.8.0 gradio-client-1.5.1 markupsafe-2.1.5 pydub-0.25.1 python-multipart-0.0.19 ruff-0.8.3 safehttpx-0.1.6 semantic-version-2.10.0 starlette-0.41.3 tomlkit-0.13.2 uvicorn-0.32.1 websockets-14.1\n"
          ]
        }
      ]
    },
    {
      "cell_type": "code",
      "source": [
        "def predictive_system():\n",
        "  return 0"
      ],
      "metadata": {
        "id": "IyGTz_gjGSpr"
      },
      "execution_count": 2,
      "outputs": []
    },
    {
      "cell_type": "code",
      "source": [
        "import gradio as gr  # Импортируем библиотеку gradio для создания пользовательского интерфейса\n",
        "\n",
        "title = \"АНАЛИЗ РЕЦЕНЗИЙ НА ФИЛЬМЫ\"  # Заголовок приложения\n",
        "input_textbox = gr.Textbox(label=\"Введите текст рецензии\")  # Поле ввода для текста рецензии\n",
        "output_textbox = gr.Textbox(label=\"Результат\")  # Поле вывода для результата анализа рецензии\n",
        "\n",
        "# Создание интерфейса с помощью блоков\n",
        "with gr.Blocks() as app:\n",
        "    gr.Markdown(f\"### {title}\")  # Добавляем заголовок в интерфейс\n",
        "    with gr.Row():  # Располагаем элементы в строку\n",
        "        input_textbox.render()  # Отображаем поле ввода\n",
        "        output_textbox.render()  # Отображаем поле вывода\n",
        "    with gr.Row():  # Добавляем еще одну строку для кнопок\n",
        "        clear_btn = gr.Button(\"Очистить\")  # Кнопка для очистки поля ввода\n",
        "        submit_btn = gr.Button(\"Отправить\")  # Кнопка для отправки текста рецензии\n",
        "\n",
        "    # Определяем действия при нажатии на кнопки\n",
        "    submit_btn.click(predictive_system, inputs=input_textbox, outputs=output_textbox)  # При нажатии на \"Отправить\" вызываем функцию predictive_system\n",
        "    clear_btn.click(lambda: \"\", None, input_textbox)  # При нажатии на \"Очистить\" очищаем поле ввода\n",
        "\n",
        "# Запуск приложения, делаем его доступным для общего доступа\n",
        "app.launch(share=True)\n"
      ],
      "metadata": {
        "colab": {
          "base_uri": "https://localhost:8080/",
          "height": 686
        },
        "id": "kBZHcjo2GZuH",
        "outputId": "d25f6a18-9c88-44b2-dc63-c6b251232f6f"
      },
      "execution_count": 3,
      "outputs": [
        {
          "output_type": "stream",
          "name": "stderr",
          "text": [
            "/usr/local/lib/python3.10/dist-packages/gradio/utils.py:999: UserWarning: Expected 0 arguments for function <function predictive_system at 0x7edd325c9480>, received 1.\n",
            "  warnings.warn(\n",
            "/usr/local/lib/python3.10/dist-packages/gradio/utils.py:1007: UserWarning: Expected maximum 0 arguments for function <function predictive_system at 0x7edd325c9480>, received 1.\n",
            "  warnings.warn(\n"
          ]
        },
        {
          "output_type": "stream",
          "name": "stdout",
          "text": [
            "Colab notebook detected. To show errors in colab notebook, set debug=True in launch()\n",
            "* Running on public URL: https://ea43d393921d0b5a46.gradio.live\n",
            "\n",
            "This share link expires in 72 hours. For free permanent hosting and GPU upgrades, run `gradio deploy` from the terminal in the working directory to deploy to Hugging Face Spaces (https://huggingface.co/spaces)\n"
          ]
        },
        {
          "output_type": "display_data",
          "data": {
            "text/plain": [
              "<IPython.core.display.HTML object>"
            ],
            "text/html": [
              "<div><iframe src=\"https://ea43d393921d0b5a46.gradio.live\" width=\"100%\" height=\"500\" allow=\"autoplay; camera; microphone; clipboard-read; clipboard-write;\" frameborder=\"0\" allowfullscreen></iframe></div>"
            ]
          },
          "metadata": {}
        },
        {
          "output_type": "execute_result",
          "data": {
            "text/plain": []
          },
          "metadata": {},
          "execution_count": 3
        }
      ]
    }
  ]
}